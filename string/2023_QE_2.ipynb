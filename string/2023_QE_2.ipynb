{
 "cells": [
  {
   "cell_type": "code",
   "execution_count": null,
   "metadata": {},
   "outputs": [],
   "source": [
    "'''\n",
    "Suppose we represent a sequence of integers from 0 to 9 with a list, \n",
    "and it is implemented with a linked list. \n",
    "For example, an integer list [3, 7, 6, 8] is implemented with a linked list:\n",
    "\n",
    "'''\n",
    "\n"
   ]
  }
 ],
 "metadata": {
  "language_info": {
   "name": "python"
  },
  "orig_nbformat": 4
 },
 "nbformat": 4,
 "nbformat_minor": 2
}

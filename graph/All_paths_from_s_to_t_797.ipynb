{
 "cells": [
  {
   "cell_type": "code",
   "execution_count": null,
   "metadata": {},
   "outputs": [],
   "source": [
    "from collections import deque \n",
    "\n",
    "class Solution:\n",
    "    def allPathsSourceTarget(self, graph: list) -> list:\n",
    "        q = deque([(0, [0])])\n",
    "        results = [] \n",
    "\n",
    "        while q:\n",
    "            cur, path = q.popleft()\n",
    "\n",
    "            # 0 to n-1까지 즉, n-1까지가는 path만 results에 넣어야 함. \n",
    "            if cur == len(graph) -1:\n",
    "                results.append(path)\n",
    "            for neighbor in graph[cur]:\n",
    "                if neighbor not in path:\n",
    "                    q.append((neighbor, path +[neighbor]))\n",
    "\n",
    "        \n",
    "        return results"
   ]
  }
 ],
 "metadata": {
  "language_info": {
   "name": "python"
  },
  "orig_nbformat": 4
 },
 "nbformat": 4,
 "nbformat_minor": 2
}

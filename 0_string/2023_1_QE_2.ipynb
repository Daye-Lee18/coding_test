{
 "cells": [
  {
   "cell_type": "code",
   "execution_count": null,
   "metadata": {},
   "outputs": [],
   "source": [
    "'''\n",
    "Suppose we represent a sequence of integers from 0 to 9 with a list, \n",
    "and it is implemented with a linked list. \n",
    "For example, an integer list [3, 7, 6, 8] is implemented with a linked list:\n",
    "\n",
    "\n",
    "print하라고 함 function 보면 None을 벹으므로 return대신 print사용해야함 (sub_list function제외 )\n",
    "'''\n",
    "\n"
   ]
  },
  {
   "cell_type": "code",
   "execution_count": 1,
   "metadata": {},
   "outputs": [],
   "source": [
    "# class Node:\n",
    "#     def __init__(self, data, next=None):\n",
    "#         self.data = data \n",
    "#         self.next = next \n",
    "\n",
    "\n",
    "class Node:\n",
    "    def __init__(self, data):\n",
    "        self.data = data\n",
    "        self.next=  None"
   ]
  },
  {
   "cell_type": "code",
   "execution_count": 53,
   "metadata": {},
   "outputs": [],
   "source": [
    "# example \n",
    "\n",
    "# defining nodes \n",
    "node1 = Node(3) \n",
    "node2 = Node(7)\n",
    "node3 = Node(6)\n",
    "node4 = Node(8) \n",
    "\n",
    "# linking \n",
    "node1.next = node2\n",
    "node2.next = node3\n",
    "node3.next = node4 "
   ]
  },
  {
   "cell_type": "code",
   "execution_count": 2,
   "metadata": {},
   "outputs": [],
   "source": [
    "# example \n",
    "\n",
    "# defining nodes \n",
    "node1 = Node(8) \n",
    "node2 = Node(1)\n",
    "node3 = Node(2)\n",
    "node4 = Node(3) \n",
    "node5 = Node(3) \n",
    "node6 = Node(2)\n",
    "node7 = Node(1)\n",
    "node8 = Node(4)\n",
    "node9 = Node(9) \n",
    "node10 = Node(4)\n",
    "node11 = Node(5)\n",
    "node12 = Node(6)\n",
    "node13 = Node(7) \n",
    "node14 = Node(6)\n",
    "node15 = Node(5)\n",
    "node16 = Node(4)\n",
    "node17 = Node(1) \n",
    "   \n",
    "\n",
    "# linking \n",
    "node1.next = node2\n",
    "node2.next = node3\n",
    "node3.next = node4\n",
    "node4.next = node5 \n",
    "node5.next = node6 \n",
    "node6.next = node7\n",
    "node7.next = node8\n",
    "node8.next = node9\n",
    "node9.next = node10 \n",
    "node10.next = node11\n",
    "node11.next = node12\n",
    "node12.next = node13\n",
    "node13.next = node14 \n",
    "node14.next = node15\n",
    "node15.next = node16\n",
    "node16.next = node17\n"
   ]
  },
  {
   "cell_type": "code",
   "execution_count": 3,
   "metadata": {},
   "outputs": [
    {
     "name": "stdout",
     "output_type": "stream",
     "text": [
      "1\n"
     ]
    }
   ],
   "source": [
    "# print(node1.next)\n",
    "# node1.next = node2\n",
    "# print(node1.next)\n",
    "print(node1.next.data)\n"
   ]
  },
  {
   "cell_type": "code",
   "execution_count": 4,
   "metadata": {},
   "outputs": [
    {
     "name": "stdout",
     "output_type": "stream",
     "text": [
      "[8, 1, 2, 3, 3, 2, 1, 4, 9, 4, 5, 6, 7, 6, 5, 4, 1]\n"
     ]
    }
   ],
   "source": [
    "'''\n",
    "(a) Write a function print_list(s) that prints the sequence (linked list) s in the list format. \n",
    "For example, linked list in Figure 3 should be printed as [3, 7, 6, 8]\n",
    "\n",
    "'''\n",
    "\n",
    "def print_list(s:Node) -> None :\n",
    "    result = []\n",
    "    while s:\n",
    "        result.append(s.data)\n",
    "        s = s.next \n",
    "    print(result) \n",
    "\n",
    "print_list(node1)"
   ]
  },
  {
   "cell_type": "code",
   "execution_count": 86,
   "metadata": {},
   "outputs": [
    {
     "data": {
      "text/plain": [
       "1"
      ]
     },
     "execution_count": 86,
     "metadata": {},
     "output_type": "execute_result"
    }
   ],
   "source": [
    "'''\n",
    "(b) Write a function palindrome(s) that returns 1 if the list s is a palindrome. Otherwise, it returns 0\n",
    "\n",
    "'''\n",
    "\n",
    "def palindrome(s:Node) -> int:\n",
    "    if s is None:\n",
    "        return \n",
    "\n",
    "    slow = fast = s \n",
    "    rev = None \n",
    "\n",
    "    while fast and fast.next:\n",
    "        fast = fast.next.next \n",
    "        slow, rev, rev.next =  slow.next , slow , rev\n",
    "    # if the total length of linked list is odd \n",
    "    # cf. fast will be not using in future, so not update for fast pointer \n",
    "    if not fast:\n",
    "         slow = slow.next \n",
    "\n",
    "    \n",
    "\n",
    "    while slow and rev :\n",
    "        if slow.data != rev.data:\n",
    "            return 0\n",
    "        slow = slow.next \n",
    "        rev = rev.next \n",
    "    return 1  \n",
    "\n",
    "palindrome(node17)"
   ]
  },
  {
   "cell_type": "code",
   "execution_count": 6,
   "metadata": {},
   "outputs": [],
   "source": [
    "'''\n",
    "Write a function sub_list(s,t) that returns 1 if the list t is a sub-list of the list s. \n",
    "Otherwise, it returns 0\n",
    "'''\n",
    "\n",
    "def sub_list(s: Node,t:Node) -> int:\n",
    "    cur_big = s\n",
    "\n",
    "    while cur_big:\n",
    "        \n",
    "        # INIT \n",
    "        cur_sub = t \n",
    "        \n",
    "        if cur_big.data != cur_sub.data:\n",
    "            cur_big = cur_big.next \n",
    "        else:  \n",
    "            # print(cur_big.data, cur_sub.data) \n",
    "            while cur_big and cur_sub:\n",
    "                if cur_big.data != cur_sub.data:\n",
    "                    break \n",
    "                cur_big = cur_big.next \n",
    "                cur_sub = cur_sub.next \n",
    "\n",
    "            if cur_sub == None:  \n",
    "                return 1\n",
    "            # if cur_big == None and cur_sub :\n",
    "            #     return 0 \n",
    "\n",
    "    return 0   \n",
    "\n",
    "\n",
    "# sub_list(node1, node1) # ok \n",
    "# sub_list(node2, node1) # ok\n",
    "# sub_list(node3, node2) # ok "
   ]
  },
  {
   "cell_type": "code",
   "execution_count": 115,
   "metadata": {},
   "outputs": [
    {
     "name": "stdout",
     "output_type": "stream",
     "text": [
      "17\n"
     ]
    }
   ],
   "source": [
    "# unlike string, linked list don't have the len function you need to implement an extra funtion for retrieving the lenght of the input string \n",
    "def get_length(head:Node) -> int:\n",
    "    length = 0 \n",
    "    current = head \n",
    "    while current:\n",
    "        length += 1 # 3 -> 6 -> 7 -> 8 # 1->2->3->4\n",
    "        current = current.next \n",
    "    return length \n",
    "\n",
    "length = get_length(node1)\n",
    "print(length)"
   ]
  },
  {
   "cell_type": "code",
   "execution_count": 104,
   "metadata": {},
   "outputs": [],
   "source": [
    "'''\n",
    "Write the function max_palindrome(s) that uses palindrome(s), sub_list(s, t) and print_list(s) \n",
    "\n",
    "t is a list that contains palindrome sub-lists of s that are *****not a sublist of another palindrome sub-list of s*******. \n",
    "'''\n",
    "from itertools import permutations\n",
    "from typing import List , Union, Tuple\n",
    "\n",
    "\n",
    "def create_sublist(head: Node, length: int)-> Union[None, Tuple[Node, Node]]:\n",
    "    if not head or length <= 0:\n",
    "        return None, None \n",
    "    \n",
    "    # INIT \n",
    "    new_head = None # will be returned \n",
    "    current = head  # a variable to traverse the original linked list starting from head \n",
    "    count = 0 \n",
    "\n",
    "    while current and count < length:\n",
    "        new_node = Node(current.data)\n",
    "\n",
    "        if not new_head:\n",
    "            new_head = new_node \n",
    "        else:\n",
    "            temp = new_head # temp는 이제까지 만들어진 new_head를 traverse \n",
    "            while temp.next:\n",
    "                temp = temp.next \n",
    "            temp.next = new_node \n",
    "        current = current.next # 기존 linked list를 traverse \n",
    "        count += 1 \n",
    "    if not current:\n",
    "        return new_head, None \n",
    "    else:\n",
    "        return new_head, current\n",
    "\n",
    "    # for _ in range(length -1):  # \n",
    "    #     # if not sub_list_head.next:\n",
    "    #     #     return None \n",
    "    #     sub_list_head = sub_list_head.next \n",
    "    \n",
    "    # sub_list_end = sub_list_head \n",
    "    # # sub_list_head.next = None  # 중간에 None 을 삽입하면 length가 바뀔 거라서 안될 것 같음. \n",
    "    \n",
    "    # return sub_list_head , sub_list_end\n",
    "\n",
    "\n",
    "\n",
    "def max_palindrome(head: Node):\n",
    "   \n",
    "    # i_th index (start) will be the input of the backtrack function \n",
    "    def backtrack(start:Node, path:List[Node]):\n",
    "        # base \n",
    "        # if the pointer end up with the last node's next (None) \n",
    "        if start == None:\n",
    "            result.append(path[:])\n",
    "            return\n",
    "    \n",
    "        for end in range(1, length+1):\n",
    "            # 만약 if start가 없으면 start가 None일때는 create_sublist가 1개의 return 값 None만 내벹게 되어 에러가 뜨게 된다. \n",
    "            # if start != None:\n",
    "            sub_list_head, sub_list_end = create_sublist(start, end)  \n",
    "            print_list(sub_list_head)\n",
    "            if palindrome(sub_list_head): # Check if the sublist is a palindrome \n",
    "                path.append(sub_list_head)\n",
    "                # liked list는 pointer느낌이라 이렇게 하면 기존의 linked list의 next로 바로 point됨 \n",
    "                backtrack(sub_list_end.next, path) \n",
    "                path.pop()\n",
    "\n",
    "    \n",
    "    result = []\n",
    "    length = get_length(head) \n",
    "    backtrack(0, [])\n",
    "    \n",
    "    return result \n",
    "    \n",
    "    #  # 위의 결과 중에 겹치는 것이 있다면 제거 \n",
    "    # perms = permutations(result, 2)\n",
    "\n",
    "    # for perm in perms:\n",
    "    #     s = perm[1]\n",
    "    #     t = perm[2]\n",
    "    #     if sub_list(s, t):\n",
    "    #         result.remove(t) \n",
    "           \n",
    "    #     else:\n",
    "    #         continue \n",
    "    # # print_list(result) \n",
    "    # # print(type(result))\n",
    "    # # for sub_result in result:\n",
    "    # #     print_list(sub_result)\n",
    "    # return  result\n",
    "    "
   ]
  },
  {
   "cell_type": "code",
   "execution_count": 80,
   "metadata": {},
   "outputs": [
    {
     "name": "stdout",
     "output_type": "stream",
     "text": [
      "8\n",
      "1\n",
      "2\n",
      "3\n",
      "3\n"
     ]
    }
   ],
   "source": [
    "start_node, end_node  = create_sublist(node1, 4)\n",
    "\n",
    "print(start_node.data)\n",
    "print(start_node.next.data)\n",
    "print(start_node.next.next.data)\n",
    "print(start_node.next.next.next.data)\n",
    "# print(start_node.next.next.next.next.data)\n",
    "# print(start_node.next.next.next.next.next.data)\n",
    "print(end_node.data)\n",
    "# print(start_node.next.next.data)\n",
    "# print(f_node == l_node)"
   ]
  },
  {
   "cell_type": "code",
   "execution_count": 114,
   "metadata": {},
   "outputs": [
    {
     "name": "stdout",
     "output_type": "stream",
     "text": [
      "8\n",
      "1\n"
     ]
    }
   ],
   "source": [
    "\n",
    "l_node, r_node = create_sublist(node1, 16)\n",
    "print(l_node.data)\n",
    "print(r_node.data)"
   ]
  },
  {
   "cell_type": "code",
   "execution_count": 108,
   "metadata": {},
   "outputs": [
    {
     "name": "stdout",
     "output_type": "stream",
     "text": [
      "[2, 3, 3, 2, 1, 4, 9, 4, 5, 6, 7, 6, 5, 4, 1]\n"
     ]
    }
   ],
   "source": [
    "print_list(node1.next.next)"
   ]
  },
  {
   "cell_type": "code",
   "execution_count": 105,
   "metadata": {},
   "outputs": [
    {
     "name": "stdout",
     "output_type": "stream",
     "text": [
      "[]\n",
      "[]\n",
      "[]\n",
      "[]\n",
      "[]\n",
      "[]\n",
      "[]\n",
      "[]\n",
      "[]\n",
      "[]\n",
      "[]\n",
      "[]\n",
      "[]\n",
      "[]\n",
      "[]\n",
      "[]\n",
      "[]\n"
     ]
    },
    {
     "data": {
      "text/plain": [
       "[]"
      ]
     },
     "execution_count": 105,
     "metadata": {},
     "output_type": "execute_result"
    }
   ],
   "source": [
    "max_palindrome(node1)"
   ]
  },
  {
   "cell_type": "code",
   "execution_count": 91,
   "metadata": {},
   "outputs": [
    {
     "name": "stdout",
     "output_type": "stream",
     "text": [
      "h\n",
      "i\n"
     ]
    }
   ],
   "source": [
    "# def print_everyting(s: str) -> None:\n",
    "#     print (char for char in s)\n",
    "#     return \n",
    "\n",
    "def print_everyting(s: str) -> None:\n",
    "    for char in s:\n",
    "        print(char)\n",
    "    return \n",
    "\n",
    "print_everyting(\"hi\")"
   ]
  },
  {
   "cell_type": "code",
   "execution_count": null,
   "metadata": {},
   "outputs": [],
   "source": []
  }
 ],
 "metadata": {
  "kernelspec": {
   "display_name": "Python 3",
   "language": "python",
   "name": "python3"
  },
  "language_info": {
   "codemirror_mode": {
    "name": "ipython",
    "version": 3
   },
   "file_extension": ".py",
   "mimetype": "text/x-python",
   "name": "python",
   "nbconvert_exporter": "python",
   "pygments_lexer": "ipython3",
   "version": "3.10.5"
  },
  "orig_nbformat": 4
 },
 "nbformat": 4,
 "nbformat_minor": 2
}
